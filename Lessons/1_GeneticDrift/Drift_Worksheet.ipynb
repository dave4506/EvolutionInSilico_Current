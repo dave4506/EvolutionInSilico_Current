{
 "cells": [
  {
   "cell_type": "markdown",
   "metadata": {},
   "source": [
    "# Lets start playing with randomness\n",
    "### Genetic Drift is a name for the effects of random sampling on the frequency of alleles in replicating organisms. \n",
    "Because populations are finite, sampling effects occur from generation to generation *even in the absence of selection*, and will cause mutations to sweep through a population over time. \n",
    "\n",
    "We'll use the random library to generate random numbers and sample from a list."
   ]
  },
  {
   "cell_type": "code",
   "execution_count": 3,
   "metadata": {
    "collapsed": true
   },
   "outputs": [],
   "source": [
    "import random"
   ]
  },
  {
   "cell_type": "markdown",
   "metadata": {},
   "source": [
    "You can view the **random** library reference here: https://docs.python.org/3/library/random.html\n",
    "\n",
    "My general philosophy on coding is that it is never a bad idea to google something!"
   ]
  },
  {
   "cell_type": "code",
   "execution_count": 4,
   "metadata": {
    "collapsed": true
   },
   "outputs": [],
   "source": [
    "#We'll start just considering two possible genotypes, a 0 and a 1\n",
    "genotypes = [0,1]\n",
    "\n",
    "#Lets also use a variable for population size so we can easily \n",
    "#manipulate this value later without having to change \n",
    "#magic numbers around all over the place\n",
    "pop_size = 10"
   ]
  },
  {
   "cell_type": "markdown",
   "metadata": {},
   "source": [
    "We'll use the **choices** function from the [random library](https://docs.python.org/3/library/random.html#random.choices) to sample (with replacement) from a collection. In this case, we're sampling from the possible genotypes to fill up a population of *pop_size* individuals. \n",
    "\n",
    "_Important! This is a feature of the python3 random library. If you're using python2 we'll have to get a python3 instance running now._"
   ]
  },
  {
   "cell_type": "code",
   "execution_count": 5,
   "metadata": {},
   "outputs": [
    {
     "name": "stdout",
     "output_type": "stream",
     "text": [
      "[1, 0, 1, 1, 0, 0, 0, 0, 0, 1]\n"
     ]
    }
   ],
   "source": [
    "population = random.choices(genotypes, k=pop_size)\n",
    "print(population)"
   ]
  },
  {
   "cell_type": "markdown",
   "metadata": {},
   "source": [
    "### Now that we have a population, and know how to sample from a collection, we can simulate a generation by filling up the next generation with a random sampling of the original population."
   ]
  },
  {
   "cell_type": "code",
   "execution_count": 6,
   "metadata": {},
   "outputs": [
    {
     "name": "stdout",
     "output_type": "stream",
     "text": [
      "[1, 1, 1, 0, 1, 0, 0, 0, 1, 1]\n"
     ]
    }
   ],
   "source": [
    "next_generation = random.choices(population, k=pop_size)\n",
    "print(next_generation)"
   ]
  },
  {
   "cell_type": "markdown",
   "metadata": {
    "collapsed": true
   },
   "source": [
    "Let's do that one more time..."
   ]
  },
  {
   "cell_type": "code",
   "execution_count": 7,
   "metadata": {},
   "outputs": [
    {
     "data": {
      "text/plain": [
       "[0, 1, 1, 0, 0, 1, 1, 1, 1, 1]"
      ]
     },
     "execution_count": 7,
     "metadata": {},
     "output_type": "execute_result"
    }
   ],
   "source": [
    "even_next_generation = random.choices(next_generation, k=pop_size)\n",
    "even_next_generation"
   ]
  },
  {
   "cell_type": "markdown",
   "metadata": {
    "collapsed": true
   },
   "source": [
    "#### Let's write a little function that returns the frequency of 1s in a population"
   ]
  },
  {
   "cell_type": "code",
   "execution_count": 34,
   "metadata": {
    "collapsed": true
   },
   "outputs": [],
   "source": [
    "def freq_ones(population):\n",
    "    count = 0\n",
    "    for individual in population:\n",
    "        if individual == 1:\n",
    "            count += 1\n",
    "    \n",
    "    return count/len(population)\n",
    "\n",
    "#Of course we could do this more \"pythonicly\"\n",
    "#by taking advantage of our genotype choices! \n",
    "def freq_ones(population):\n",
    "    return(sum(population)/len(population))"
   ]
  },
  {
   "cell_type": "code",
   "execution_count": 35,
   "metadata": {},
   "outputs": [
    {
     "name": "stdout",
     "output_type": "stream",
     "text": [
      "0.5 0.3 0.2\n"
     ]
    }
   ],
   "source": [
    "print(freq_ones(population), \n",
    "      freq_ones(next_generation), \n",
    "      freq_ones(even_next_generation))"
   ]
  },
  {
   "cell_type": "markdown",
   "metadata": {},
   "source": [
    "## Now let's plot a simple figure showing the frequency of 1s over these couple of generations\n",
    "\n",
    "#### We'll use the **matplotlib** library, which mimics the way Matlab (hence the name) plots figures. \n",
    "\n",
    "For a brief tutorial on plotting with matplotlib see this link: https://matplotlib.org/tutorials/introductory/pyplot.html#sphx-glr-tutorials-introductory-pyplot-py"
   ]
  },
  {
   "cell_type": "code",
   "execution_count": 36,
   "metadata": {},
   "outputs": [
    {
     "data": {
      "image/png": "[encoded data removed]",
      "text/plain": [
       "<matplotlib.figure.Figure at 0x116120cc0>"
      ]
     },
     "metadata": {},
     "output_type": "display_data"
    }
   ],
   "source": [
    "from matplotlib import pyplot\n",
    "pyplot.plot([freq_ones(population), \n",
    "             freq_ones(next_generation), \n",
    "             freq_ones(even_next_generation)])\n",
    "pyplot.ylim(-0.1, 1.1)\n",
    "pyplot.xlabel(\"Generation\")\n",
    "pyplot.ylabel(\"Freq of 1s\")\n",
    "pyplot.show()"
   ]
  },
  {
   "cell_type": "markdown",
   "metadata": {
    "collapsed": true
   },
   "source": [
    "### We can start with a perfect 50/50 mix of genotypes by being explicit about the initial population.\n",
    "\n",
    "#### We can also plot multiple lines in the same figure by calling plot() multiple times before calling show()!"
   ]
  },
  {
   "cell_type": "code",
   "execution_count": 37,
   "metadata": {},
   "outputs": [
    {
     "data": {
      "image/png": "[encoded data removed]",
      "text/plain": [
       "<matplotlib.figure.Figure at 0x11613a908>"
      ]
     },
     "metadata": {},
     "output_type": "display_data"
    }
   ],
   "source": [
    "population = [0]*int(pop_size/2) + [1]*int(pop_size/2)\n",
    "next_generation = random.choices(population, k=pop_size)\n",
    "even_next_generation = random.choices(next_generation, k=pop_size)\n",
    "\n",
    "#We could build up a list by appending to an \n",
    "#empty list...\n",
    "first_sim_freqs = []\n",
    "first_sim_freqs.append(freq_ones(population))\n",
    "first_sim_freqs.append(freq_ones(next_generation))\n",
    "first_sim_freqs.append(freq_ones(even_next_generation))\n",
    "\n",
    "#plot the first simulation\n",
    "pyplot.plot(first_sim_freqs)\n",
    "\n",
    "\n",
    "#Now simulate another few generations....\n",
    "population = [0]*int(pop_size/2) + [1]*int(pop_size/2)\n",
    "next_generation = random.choices(population, k=pop_size)\n",
    "even_next_generation = random.choices(next_generation, k=pop_size)\n",
    "\n",
    "#and plot them, this time making the list all at once...\n",
    "pyplot.plot([freq_ones(population), \n",
    "             freq_ones(next_generation), \n",
    "             freq_ones(even_next_generation)])\n",
    "\n",
    "\n",
    "pyplot.ylim(-0.1, 1.1)\n",
    "pyplot.xlabel(\"Generation\")\n",
    "pyplot.ylabel(\"Freq of 1s\")\n",
    "pyplot.show()"
   ]
  },
  {
   "cell_type": "markdown",
   "metadata": {},
   "source": [
    "## 1. Now in your groups, simulate many (100) generations, and many replicates and plot the dynamics like we did above\n",
    "\n",
    "Obviously you're not going to want to keep creating variables for each new population... So, you'll want to loop through generations, keeping track of the frequency of ones over time."
   ]
  },
  {
   "cell_type": "code",
   "execution_count": 38,
   "metadata": {
    "collapsed": true
   },
   "outputs": [],
   "source": [
    "num_generations = 100\n"
   ]
  },
  {
   "cell_type": "markdown",
   "metadata": {},
   "source": [
    "## 2. Now plot many replicates on the same plot!\n",
    "Insert a **Markdown** cell and describe what you notice about the populations."
   ]
  },
  {
   "cell_type": "code",
   "execution_count": 39,
   "metadata": {
    "collapsed": true
   },
   "outputs": [],
   "source": [
    "num_generations = 100\n",
    "num_replicates = 100\n",
    "\n"
   ]
  },
  {
   "cell_type": "markdown",
   "metadata": {},
   "source": [
    "## 3. If you're breezing through these questions, try visualizing the distribution of generation time until populations *fix* a genotype (when the population is all 0s or all 1s). \n",
    "\n",
    "Then, play with the population size to see how the distribution changes! \n",
    "\n",
    "Insert a **Markdown** cell and describe what you notice about how the distribution changes."
   ]
  },
  {
   "cell_type": "code",
   "execution_count": null,
   "metadata": {
    "collapsed": true
   },
   "outputs": [],
   "source": []
  },
  {
   "cell_type": "markdown",
   "metadata": {},
   "source": [
    "## 4. WHOA! You're really flying through this... \n",
    "### If you're here, try figuring out a way to add a fitness value to the \"1\" genotype that increases their likelihood of being sampled into the next generation (hint: look at the documentation for random.choices). \n",
    "\n",
    "See how starting with just one or a few of \"1\" genotypes affects their chances at fixing in the population. How does the value for fitness change the probability of fixation?"
   ]
  },
  {
   "cell_type": "code",
   "execution_count": null,
   "metadata": {
    "collapsed": true
   },
   "outputs": [],
   "source": []
  },
  {
   "cell_type": "markdown",
   "metadata": {},
   "source": [
    "## 5. Now you're just showing off. If you got all that done, see if you can add mutations between genotypes \n",
    "#### ( $0 \\rightarrow 1$ and $1 \\rightarrow 0$ ) With some small probability, for example. \n",
    "\n",
    "How does mutation change the dynamics of fixation?"
   ]
  },
  {
   "cell_type": "code",
   "execution_count": null,
   "metadata": {
    "collapsed": true
   },
   "outputs": [],
   "source": []
  }
 ],
 "metadata": {
  "kernelspec": {
   "display_name": "Python 3",
   "language": "python",
   "name": "python3"
  },
  "language_info": {
   "codemirror_mode": {
    "name": "ipython",
    "version": 3
   },
   "file_extension": ".py",
   "mimetype": "text/x-python",
   "name": "python",
   "nbconvert_exporter": "python",
   "pygments_lexer": "ipython3",
   "version": "3.6.3"
  }
 },
 "nbformat": 4,
 "nbformat_minor": 2
}
